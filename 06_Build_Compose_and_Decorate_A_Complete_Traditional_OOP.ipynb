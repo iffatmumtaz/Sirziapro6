{
  "nbformat": 4,
  "nbformat_minor": 0,
  "metadata": {
    "colab": {
      "provenance": [],
      "authorship_tag": "ABX9TyMVLd27UrP5XWBl/BY6uDCd",
      "include_colab_link": true
    },
    "kernelspec": {
      "name": "python3",
      "display_name": "Python 3"
    },
    "language_info": {
      "name": "python"
    }
  },
  "cells": [
    {
      "cell_type": "markdown",
      "metadata": {
        "id": "view-in-github",
        "colab_type": "text"
      },
      "source": [
        "<a href=\"https://colab.research.google.com/github/iffatmumtaz/Sirziapro6/blob/main/06_Build_Compose_and_Decorate_A_Complete_Traditional_OOP.ipynb\" target=\"_parent\"><img src=\"https://colab.research.google.com/assets/colab-badge.svg\" alt=\"Open In Colab\"/></a>"
      ]
    },
    {
      "cell_type": "markdown",
      "source": [
        "1. Using self"
      ],
      "metadata": {
        "id": "VdPNodnsaafZ"
      }
    },
    {
      "cell_type": "code",
      "source": [
        "class Student:\n",
        "    def __init__(self, name, marks):\n",
        "        self.name = name\n",
        "        self.marks = marks\n",
        "\n",
        "    def display(self):\n",
        "        print(\"Student Name:\", self.name)\n",
        "        print(\"Marks:\", self.marks)\n",
        "\n",
        "# Object banate hain\n",
        "student1 = Student(\"Ali\", 85)\n",
        "\n",
        "# Display method call karta h\n",
        "student1.display()\n",
        "\n",
        "\n",
        "\n",
        "\n"
      ],
      "metadata": {
        "colab": {
          "base_uri": "https://localhost:8080/"
        },
        "id": "n8qJ_rFLb0wW",
        "outputId": "11f535d8-9799-4a9f-c097-5d2319d3bf1d"
      },
      "execution_count": 15,
      "outputs": [
        {
          "output_type": "stream",
          "name": "stdout",
          "text": [
            "Student Name: Ali\n",
            "Marks: 85\n"
          ]
        }
      ]
    },
    {
      "cell_type": "markdown",
      "source": [
        "2. Using cls\n",
        "ap jitni br print kro gy no. plus hota jaay ga"
      ],
      "metadata": {
        "id": "6qDgL04Af-Sr"
      }
    },
    {
      "cell_type": "code",
      "source": [
        "class Counter:\n",
        "  count=0\n",
        "\n",
        "  def __init__(self):\n",
        "\n",
        "    Counter.count += 1\n",
        "\n",
        "  @classmethod\n",
        "  def display_count(cls):\n",
        "    print(\"Total objects created:\", cls.count)\n",
        "\n",
        "# Objects create karte hain\n",
        "c1 = Counter()\n",
        "c2 = Counter()\n",
        "c3 = Counter()\n",
        "c4 = Counter()\n",
        "\n",
        "# Count display karte hain\n",
        "Counter.display_count()"
      ],
      "metadata": {
        "colab": {
          "base_uri": "https://localhost:8080/"
        },
        "id": "fUT6WbM3f_d6",
        "outputId": "3a1d031f-dd32-4b05-bda6-8459d198588b"
      },
      "execution_count": 12,
      "outputs": [
        {
          "output_type": "stream",
          "name": "stdout",
          "text": [
            "Total objects created: 4\n"
          ]
        }
      ]
    },
    {
      "cell_type": "markdown",
      "source": [
        "3. Public Variables and Methods\n"
      ],
      "metadata": {
        "id": "i5NZPGaGb1GW"
      }
    },
    {
      "cell_type": "code",
      "source": [
        "class Car:\n",
        "  brand=\"Toyota\"\n",
        "\n",
        "  def start(self):\n",
        "    print(\"The car has started\")\n",
        "\n",
        "car1=Car()\n",
        "\n",
        "print(\"Car brand:\",car1.brand)\n",
        "\n",
        "car1.start()"
      ],
      "metadata": {
        "colab": {
          "base_uri": "https://localhost:8080/"
        },
        "id": "D3hDUl7Tb_lT",
        "outputId": "1c2c2ab4-52d1-4bf5-e72c-c5788f8eefef"
      },
      "execution_count": 18,
      "outputs": [
        {
          "output_type": "stream",
          "name": "stdout",
          "text": [
            "Car brand: Toyota\n",
            "The car has started\n"
          ]
        }
      ]
    },
    {
      "cell_type": "markdown",
      "source": [
        "4. Class Variables and Class Methods"
      ],
      "metadata": {
        "id": "Bzpji33pe4Da"
      }
    },
    {
      "cell_type": "code",
      "source": [
        "class Bank:\n",
        "   bank_name = \"Meezan bank\"\n",
        "\n",
        "   @classmethod\n",
        "   def change_bank_name(cls, name):\n",
        "     cls.bank_name = name\n",
        "\n",
        "account1 = Bank()\n",
        "account2 = Bank()\n",
        "account3 = Bank()\n",
        "\n",
        "print(\"Account1 Bank:\", account1.bank_name)\n",
        "print(\"Account2 Bank:\", account2.bank_name)\n",
        "print(\"Account3 Bank:\", account3.bank_name)\n",
        "\n",
        "Bank.change_bank_name(\"Alfalah bank\")\n",
        "\n",
        "print(\"Account1 Bank after change:\", account1.bank_name)\n",
        "print(\"Account2 Bank after change:\", account2.bank_name)\n",
        "print(\"Account3 Bank after change:\", account3.bank_name)\n",
        "\n",
        "\n",
        "\n"
      ],
      "metadata": {
        "colab": {
          "base_uri": "https://localhost:8080/"
        },
        "id": "Pn3jVMMue5AT",
        "outputId": "82628fa2-ee42-44be-e400-3040445663bc"
      },
      "execution_count": 29,
      "outputs": [
        {
          "output_type": "stream",
          "name": "stdout",
          "text": [
            "Account1 Bank: Meezan bank\n",
            "Account2 Bank: Meezan bank\n",
            "Account3 Bank: Meezan bank\n",
            "Account1 Bank after change: Alfalah bank\n",
            "Account2 Bank after change: Alfalah bank\n",
            "Account3 Bank after change: Alfalah bank\n"
          ]
        }
      ]
    },
    {
      "cell_type": "markdown",
      "source": [
        "5. Static Variables and Static Methods\n"
      ],
      "metadata": {
        "id": "9Z0LMpBwgFnB"
      }
    },
    {
      "cell_type": "code",
      "source": [
        "class MathUtils:\n",
        "\n",
        "  @staticmethod\n",
        "  def add(a,b):\n",
        "    return a+b\n",
        "\n",
        "result = MathUtils.add(5, 3)\n",
        "\n",
        "print(\"Sum is:\", result)"
      ],
      "metadata": {
        "colab": {
          "base_uri": "https://localhost:8080/"
        },
        "id": "ZroOoPCOgGuk",
        "outputId": "6d28959a-90d4-47d0-cc8a-8648c37f72b5"
      },
      "execution_count": 21,
      "outputs": [
        {
          "output_type": "stream",
          "name": "stdout",
          "text": [
            "Sum is: 8\n"
          ]
        }
      ]
    },
    {
      "cell_type": "markdown",
      "source": [
        "6. Constructors and Destructors\n"
      ],
      "metadata": {
        "id": "L66e4nOTm_lk"
      }
    },
    {
      "cell_type": "code",
      "source": [
        "class Logger:\n",
        "\n",
        "  def __init__(self):\n",
        "    print(\"Logger object has been created\")\n",
        "\n",
        "  def __del__(self):\n",
        "    print(\"Logger object has been destroyed\")\n",
        "\n",
        "Log1 = Logger()\n",
        "del Log1"
      ],
      "metadata": {
        "colab": {
          "base_uri": "https://localhost:8080/"
        },
        "id": "r9zATTdHoNGK",
        "outputId": "9b2b1528-2909-4ca8-fd73-fb4b156af46b"
      },
      "execution_count": 2,
      "outputs": [
        {
          "output_type": "stream",
          "name": "stdout",
          "text": [
            "Logger object has been created\n",
            "Logger object has been destroyed\n"
          ]
        }
      ]
    },
    {
      "cell_type": "markdown",
      "source": [
        "7. Access Modifiers: Public, Private, and Protected"
      ],
      "metadata": {
        "id": "viZzBbHSa87G"
      }
    },
    {
      "cell_type": "code",
      "source": [
        "class Employee:\n",
        "  def __init__(self,name,salry,ssn):\n",
        "    self.name = name\n",
        "    self._salry = salry\n",
        "    self.__ssn = ssn  #__ye private krne k liy hota h\n",
        "\n",
        "emp1= Employee(\"Iffat\", 5000, 1234)\n",
        "\n",
        "print(\"Name:\",emp1.name)\n",
        "\n",
        "print(\"Salry(protected):\",emp1._salry)\n",
        "try:\n",
        "   print(\"SSN(private):\", emp1.__ssn)\n",
        "except AttributeError as e:\n",
        "   print(\"Error accessing private variable:\",e)\n",
        "\n",
        "   print(\"SSN (accessed via name mangling):\", emp1._Employee__ssn)\n"
      ],
      "metadata": {
        "colab": {
          "base_uri": "https://localhost:8080/"
        },
        "id": "M3MsfLvua-Oo",
        "outputId": "eeff839d-c897-481a-c9f2-0273702c1862"
      },
      "execution_count": 18,
      "outputs": [
        {
          "output_type": "stream",
          "name": "stdout",
          "text": [
            "Name: Iffat\n",
            "Salry(protected): 5000\n",
            "Error accessing private variable: 'Employee' object has no attribute '__ssn'\n",
            "SSN (accessed via name mangling): 1234\n"
          ]
        }
      ]
    },
    {
      "cell_type": "markdown",
      "source": [
        "8. The super() Function"
      ],
      "metadata": {
        "id": "pRueDO8ok4R1"
      }
    },
    {
      "cell_type": "code",
      "source": [
        "class Person:\n",
        "  def __init__(self, name):\n",
        "    self.name = name\n",
        "\n",
        "class Teacher(Person):\n",
        "  def __init__(self,name,subject):\n",
        "    super(). __init__(name)\n",
        "    self.subject = subject\n",
        "\n",
        "  def display(self) :\n",
        "    print(\"Name:\",self.name)\n",
        "    print(\"Subject:\",self.subject)\n",
        "\n",
        "teacher1  = Teacher(\"Iffat:\", \"Artificial inteligence\")\n",
        "teacher1.display()"
      ],
      "metadata": {
        "colab": {
          "base_uri": "https://localhost:8080/"
        },
        "id": "sVwsmXSsk78H",
        "outputId": "277cfe41-cead-4839-ebce-b122640c36e6"
      },
      "execution_count": 21,
      "outputs": [
        {
          "output_type": "stream",
          "name": "stdout",
          "text": [
            "Name: Iffat:\n",
            "Subject: Artificial inteligence\n"
          ]
        }
      ]
    },
    {
      "cell_type": "markdown",
      "source": [
        "9. Abstract Classes and Methods"
      ],
      "metadata": {
        "id": "RSFqkkTlqz6r"
      }
    },
    {
      "cell_type": "code",
      "source": [
        "from abc import ABC, abstractmethod\n",
        "\n",
        "class Shape(ABC):\n",
        "  @abstractmethod\n",
        "  def area(self):\n",
        "    pass\n",
        "\n",
        "class Rectangle(Shape):\n",
        "  def __init__(self,height,width):\n",
        "    self.height = height\n",
        "    self.width = width\n",
        "\n",
        "  def area(self):\n",
        "     return self.height * self.width\n",
        "\n",
        "rect = Rectangle(5, 6)\n",
        "\n",
        "print(\"Area of rectangle:\", rect.area())\n",
        "\n",
        "\n"
      ],
      "metadata": {
        "colab": {
          "base_uri": "https://localhost:8080/"
        },
        "id": "nuQwGd0Gq4Uv",
        "outputId": "0eafa6c1-48dd-4ff2-ae7f-b3c6da14c9c8"
      },
      "execution_count": 27,
      "outputs": [
        {
          "output_type": "stream",
          "name": "stdout",
          "text": [
            "Area of rectangle: 30\n"
          ]
        }
      ]
    },
    {
      "cell_type": "markdown",
      "source": [
        "10. Instance Methods"
      ],
      "metadata": {
        "id": "Pqg26DUqvEVo"
      }
    },
    {
      "cell_type": "code",
      "source": [
        "class Dog:\n",
        "  def __init__(self,name,breed):\n",
        "    self.name = name\n",
        "    self.breed = breed\n",
        "  def bark(self):\n",
        "    print(f\"{self.name} is barking!\")\n",
        "\n",
        "dog1 = Dog(\"tommy\",\"Labrador\")\n",
        "dog1.bark()\n"
      ],
      "metadata": {
        "colab": {
          "base_uri": "https://localhost:8080/"
        },
        "id": "CIxwsEAlvHeE",
        "outputId": "7ee3b9b8-f2bd-46f3-a4f8-09a93f45d50d"
      },
      "execution_count": 28,
      "outputs": [
        {
          "output_type": "stream",
          "name": "stdout",
          "text": [
            "tommy is barking!\n"
          ]
        }
      ]
    },
    {
      "cell_type": "markdown",
      "source": [
        "11. Class Methods\n"
      ],
      "metadata": {
        "id": "tf2qKqmPwZMB"
      }
    },
    {
      "cell_type": "code",
      "source": [
        "class Book:\n",
        "    # Class variable\n",
        "    total_books = 0\n",
        "\n",
        "    def __init__(self, title):\n",
        "        self.title = title\n",
        "        Book.increment_book_count()\n",
        "\n",
        "    @classmethod\n",
        "    def increment_book_count(cls):\n",
        "        cls.total_books += 1\n",
        "\n",
        "    @classmethod\n",
        "    def display_total_books(cls):\n",
        "        print(\"Total books:\", cls.total_books)\n",
        "\n",
        "book1 = Book(\"Python Basics\")\n",
        "book2 = Book(\"Learn Java\")\n",
        "book3 = Book(\"C++ Guide\")\n",
        "\n",
        "Book.display_total_books()\n"
      ],
      "metadata": {
        "colab": {
          "base_uri": "https://localhost:8080/"
        },
        "id": "ZLsBGkLYweOe",
        "outputId": "6d775dae-635d-42ea-c264-e2ca6793e8cf"
      },
      "execution_count": 29,
      "outputs": [
        {
          "output_type": "stream",
          "name": "stdout",
          "text": [
            "Total books: 3\n"
          ]
        }
      ]
    },
    {
      "cell_type": "markdown",
      "source": [
        "12. Static Methods"
      ],
      "metadata": {
        "id": "fp5HtvUdw5ar"
      }
    },
    {
      "cell_type": "code",
      "source": [
        "class TemperatureConverter:\n",
        "    @staticmethod\n",
        "    def celsius_to_fahrenheit(c):\n",
        "      return (c * 9/5) + 32\n",
        "\n",
        "print(\"25°C in Fahrenheit:\", TemperatureConverter.celsius_to_fahrenheit(25))\n",
        "\n",
        "converter =  TemperatureConverter()\n",
        "\n",
        "print(\"30°C in Fahrenheit:\", converter.celsius_to_fahrenheit(30))"
      ],
      "metadata": {
        "colab": {
          "base_uri": "https://localhost:8080/"
        },
        "id": "8BHELylew-T5",
        "outputId": "6a8568e3-bbc6-4a5d-ad6b-0d4a7b96f9f4"
      },
      "execution_count": 32,
      "outputs": [
        {
          "output_type": "stream",
          "name": "stdout",
          "text": [
            "25°C in Fahrenheit: 77.0\n",
            "30°C in Fahrenheit: 86.0\n"
          ]
        }
      ]
    },
    {
      "cell_type": "markdown",
      "source": [
        "13. Composition"
      ],
      "metadata": {
        "id": "0hQXzO8Jzzj0"
      }
    },
    {
      "cell_type": "code",
      "source": [
        "class Engine:\n",
        "  def start(self):\n",
        "    print(\"Engine started\")\n",
        "\n",
        "class Car:\n",
        "  def __init__(self,engine):\n",
        "   self.engine = engine\n",
        "\n",
        "  def start_car(self):\n",
        "     print(\"Car is started\")\n",
        "     self.engine.start()\n",
        "\n",
        "engine1 = Engine()\n",
        "car1 = Car(engine1)\n",
        "car1.start_car()"
      ],
      "metadata": {
        "colab": {
          "base_uri": "https://localhost:8080/"
        },
        "id": "uQxDyBBUz2UQ",
        "outputId": "3a144bea-29cf-4fb7-b4a2-bb72234c8f93"
      },
      "execution_count": 33,
      "outputs": [
        {
          "output_type": "stream",
          "name": "stdout",
          "text": [
            "Car is started\n",
            "Engine started\n"
          ]
        }
      ]
    },
    {
      "cell_type": "markdown",
      "source": [
        "14. Aggregation"
      ],
      "metadata": {
        "id": "er3_cHhX10wa"
      }
    },
    {
      "cell_type": "code",
      "source": [
        "class Employee:\n",
        "    def __init__(self, name):\n",
        "        self.name = name\n",
        "\n",
        "    def show(self):\n",
        "        print(\"Employee Name:\", self.name)\n",
        "\n",
        "class Department:\n",
        "    def __init__(self, dept_name, employee):\n",
        "        self.dept_name = dept_name\n",
        "        self.employee = employee\n",
        "\n",
        "    def show_department(self):\n",
        "        print(\"Department Name:\", self.dept_name)\n",
        "        self.employee.show()\n",
        "\n",
        "emp1 = Employee(\"Iffat\")\n",
        "\n",
        "dept1 = Department(\"IT\", emp1)\n",
        "dept1.show_department()\n",
        "emp1.show()\n"
      ],
      "metadata": {
        "id": "HqNfKTbL14eK",
        "outputId": "916b4bf0-2699-4c8b-a4b1-bc7b491b7fad",
        "colab": {
          "base_uri": "https://localhost:8080/"
        }
      },
      "execution_count": 35,
      "outputs": [
        {
          "output_type": "stream",
          "name": "stdout",
          "text": [
            "Department Name: IT\n",
            "Employee Name: Iffat\n",
            "Employee Name: Iffat\n"
          ]
        }
      ]
    },
    {
      "cell_type": "markdown",
      "source": [
        "15. Method Resolution Order (MRO) and Diamond Inheritance"
      ],
      "metadata": {
        "id": "kpMyPyyt2sm7"
      }
    },
    {
      "cell_type": "code",
      "source": [
        "class A:\n",
        "    def show(self):\n",
        "        print(\"Method from class A\")\n",
        "\n",
        "class B(A):\n",
        "    def show(self):\n",
        "        print(\"Method from class B\")\n",
        "\n",
        "class C(A):\n",
        "    def show(self):\n",
        "        print(\"Method from class C\")\n",
        "\n",
        "class D(B, C):\n",
        "    pass\n",
        "\n",
        "d = D()\n",
        "d.show()\n",
        "print(\"MRO of class D:\", [cls.__name__ for cls in D.__mro__])\n"
      ],
      "metadata": {
        "id": "4wKG89Iz4yGP",
        "outputId": "a2955a4b-f6ae-4c25-c878-09c224d9aa72",
        "colab": {
          "base_uri": "https://localhost:8080/"
        }
      },
      "execution_count": 36,
      "outputs": [
        {
          "output_type": "stream",
          "name": "stdout",
          "text": [
            "Method from class B\n",
            "MRO of class D: ['D', 'B', 'C', 'A', 'object']\n"
          ]
        }
      ]
    },
    {
      "cell_type": "markdown",
      "source": [
        "16. Function Decorators"
      ],
      "metadata": {
        "id": "dtq6d4US5GjC"
      }
    },
    {
      "cell_type": "code",
      "source": [
        "def log_function_call(func):\n",
        "    def wrapper():\n",
        "        print(\"Function is being called\")\n",
        "        func()\n",
        "    return wrapper\n",
        "\n",
        "@log_function_call\n",
        "def say_hello():\n",
        "    print(\"Hello!\")\n",
        "\n",
        "say_hello()\n"
      ],
      "metadata": {
        "id": "oLn_uiZt5Jz7",
        "outputId": "75aa76a7-6af2-409b-ee58-3c1fa2a0073f",
        "colab": {
          "base_uri": "https://localhost:8080/"
        }
      },
      "execution_count": 37,
      "outputs": [
        {
          "output_type": "stream",
          "name": "stdout",
          "text": [
            "Function is being called\n",
            "Hello!\n"
          ]
        }
      ]
    },
    {
      "cell_type": "markdown",
      "source": [
        "17. Class Decorators"
      ],
      "metadata": {
        "id": "3Ude9KE95zWr"
      }
    },
    {
      "cell_type": "code",
      "source": [
        "class Product:\n",
        "    def __init__(self, price):\n",
        "        self._price = price\n",
        "\n",
        "    @property\n",
        "    def price(self):\n",
        "        print(\"Getting price...\")\n",
        "        return self._price\n",
        "    @price.setter\n",
        "    def price(self, value):\n",
        "        if value < 0:\n",
        "            print(\"Price cannot be negative!\")\n",
        "        else:\n",
        "            print(\"Setting price...\")\n",
        "            self._price = value\n",
        "\n",
        "    @price.deleter\n",
        "    def price(self):\n",
        "        print(\"Deleting price...\")\n",
        "        del self._price\n",
        "\n",
        "p = Product(100)\n",
        "print(p.price)\n",
        "\n",
        "p.price = 150\n",
        "print(p.price)\n",
        "\n",
        "p.price = -50\n",
        "\n",
        "del p.price\n"
      ],
      "metadata": {
        "id": "5gin3u4450U5",
        "outputId": "4008cf37-86d7-4a08-ee35-bd23c20d99c3",
        "colab": {
          "base_uri": "https://localhost:8080/"
        }
      },
      "execution_count": 38,
      "outputs": [
        {
          "output_type": "stream",
          "name": "stdout",
          "text": [
            "Getting price...\n",
            "100\n",
            "Setting price...\n",
            "Getting price...\n",
            "150\n",
            "Price cannot be negative!\n",
            "Deleting price...\n"
          ]
        }
      ]
    },
    {
      "cell_type": "markdown",
      "source": [
        "9. callable() and __call__()"
      ],
      "metadata": {
        "id": "Y5BJf8Rk6l5d"
      }
    },
    {
      "cell_type": "code",
      "source": [
        "class Multiplier:\n",
        "    def __init__(self, factor):\n",
        "        self.factor = factor\n",
        "\n",
        "    def __call__(self, number):\n",
        "        return number * self.factor\n",
        "mul = Multiplier(5)\n",
        "print(callable(mul))\n",
        "\n",
        "result = mul(10)\n",
        "\n",
        "print(result)\n"
      ],
      "metadata": {
        "id": "eI202Mp16nDa",
        "outputId": "db760ac6-837d-4e57-f852-691cdb215349",
        "colab": {
          "base_uri": "https://localhost:8080/"
        }
      },
      "execution_count": 40,
      "outputs": [
        {
          "output_type": "stream",
          "name": "stdout",
          "text": [
            "True\n",
            "50\n"
          ]
        }
      ]
    },
    {
      "cell_type": "markdown",
      "source": [
        "20. Creating a Custom Exception"
      ],
      "metadata": {
        "id": "6IvTyvDd7Fbc"
      }
    },
    {
      "cell_type": "code",
      "source": [
        "class InvalidAgeError(Exception):\n",
        "    pass\n",
        "\n",
        "def check_age(age):\n",
        "    if age < 18:\n",
        "        raise InvalidAgeError(\"Age must be at least 18.\")\n",
        "    else:\n",
        "        print(\"Age is valid.\")\n",
        "try:\n",
        "    check_age(15)\n",
        "except InvalidAgeError as e:\n",
        "    print(\"Error caught:\", e)\n",
        "\n",
        "try:\n",
        "    check_age(20)\n",
        "except InvalidAgeError as e:\n",
        "    print(\"Error caught:\", e)\n"
      ],
      "metadata": {
        "id": "dDzaipIr7GbL",
        "outputId": "c89931c4-0a93-435b-98a3-fcb6c2f4b483",
        "colab": {
          "base_uri": "https://localhost:8080/"
        }
      },
      "execution_count": 41,
      "outputs": [
        {
          "output_type": "stream",
          "name": "stdout",
          "text": [
            "Error caught: Age must be at least 18.\n",
            "Age is valid.\n"
          ]
        }
      ]
    },
    {
      "cell_type": "markdown",
      "source": [
        "21. Make a Custom Class Iterable\n"
      ],
      "metadata": {
        "id": "AYvBJQiO7u7l"
      }
    },
    {
      "cell_type": "code",
      "source": [
        "class Countdown:\n",
        "    def __init__(self, start):\n",
        "        self.current = start\n",
        "    def __iter__(self):\n",
        "        return self\n",
        "\n",
        "    def __next__(self):\n",
        "        if self.current < 0:\n",
        "            raise StopIteration\n",
        "        else:\n",
        "            value = self.current\n",
        "            self.current -= 1\n",
        "            return value\n",
        "for num in Countdown(5):\n",
        "    print(num)\n"
      ],
      "metadata": {
        "id": "MasttAUM77jJ",
        "outputId": "8ca9144b-b830-4951-cfac-1834d643f8db",
        "colab": {
          "base_uri": "https://localhost:8080/"
        }
      },
      "execution_count": 42,
      "outputs": [
        {
          "output_type": "stream",
          "name": "stdout",
          "text": [
            "5\n",
            "4\n",
            "3\n",
            "2\n",
            "1\n",
            "0\n"
          ]
        }
      ]
    }
  ]
}